{
 "cells": [
  {
   "cell_type": "code",
   "execution_count": null,
   "metadata": {},
   "outputs": [],
   "source": [
    "import pandas as pd\n",
    "import numpy as np\n",
    "import os\n",
    "from sklearn.preprocessing import StandardScaler, MinMaxScaler\n",
    "\n",
    "# Load dataset\n",
    "file_path = \"/content/dataset.csv\"  # Change this to the correct path\n",
    "\n",
    "# 🔹 1. Check if file exists\n",
    "if not os.path.exists(file_path):\n",
    "    raise FileNotFoundError(f\"File not found: {file_path}\")\n",
    "\n",
    "df = pd.read_csv(file_path)\n",
    "\n",
    "# 🔹 2. Handle Missing Values\n",
    "df = df.dropna()  # Remove rows with missing values\n",
    "\n",
    "# 🔹 3. Convert Columns to Correct Data Types (Ensure numeric values)\n",
    "features = ['danceability', 'energy', 'loudness', 'speechiness', 'acousticness',\n",
    "            'instrumentalness', 'liveness', 'valence', 'tempo']\n",
    "\n",
    "# 🔹 4. Check if required features exist\n",
    "missing_features = [col for col in features if col not in df.columns]\n",
    "if missing_features:\n",
    "    raise KeyError(f\"Missing features in dataset: {missing_features}\")\n",
    "\n",
    "df[features] = df[features].apply(pd.to_numeric, errors='coerce')\n",
    "\n",
    "# 🔹 5. Normalize Numerical Features\n",
    "scaler = StandardScaler()  # Use MinMaxScaler() if you prefer 0-1 normalization\n",
    "df[features] = scaler.fit_transform(df[features])\n",
    "\n",
    "# 🔹 6. Define Mood Categories Based on Valence & Energy\n",
    "def classify_mood(row):\n",
    "    if row['valence'] > 0.5 and row['energy'] > 0.5:\n",
    "        return 'Happy'\n",
    "    elif row['valence'] > 0.5 and row['energy'] <= 0.5:\n",
    "        return 'Calm'\n",
    "    elif row['valence'] <= 0.5 and row['energy'] > 0.5:\n",
    "        return 'Energetic'\n",
    "    else:\n",
    "        return 'Sad'\n",
    "\n",
    "df['mood'] = df.apply(classify_mood, axis=1)\n",
    "\n",
    "# 🔹 7. Save the Processed Dataset\n",
    "processed_file_path = \"/content/processed_spotify_data.csv\"\n",
    "df.to_csv(processed_file_path, index=False)\n",
    "\n",
    "print(f\"✅ Data preprocessing complete. Processed file saved at: {processed_file_path}\")"
   ]
  }
 ],
 "metadata": {
  "interpreter": {
   "hash": "356734b0b4e05b3af569ed06eb258f6ef66038e7268c6bdbb97ecd1a1c609e88"
  },
  "kernelspec": {
   "display_name": "Python 3.7.4 64-bit",
   "language": "python",
   "name": "python3"
  },
  "language_info": {
   "codemirror_mode": {
    "name": "ipython",
    "version": 3
   },
   "file_extension": ".py",
   "mimetype": "text/x-python",
   "name": "python",
   "nbconvert_exporter": "python",
   "pygments_lexer": "ipython3",
   "version": "3.7.4"
  },
  "orig_nbformat": 4
 },
 "nbformat": 4,
 "nbformat_minor": 2
}
